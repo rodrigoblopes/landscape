{
  "nbformat": 4,
  "nbformat_minor": 0,
  "metadata": {
    "colab": {
      "provenance": [],
      "authorship_tag": "ABX9TyMTfcNEdtQ8QIE9YofFASMh",
      "include_colab_link": true
    },
    "kernelspec": {
      "name": "python3",
      "display_name": "Python 3"
    },
    "language_info": {
      "name": "python"
    }
  },
  "cells": [
    {
      "cell_type": "markdown",
      "metadata": {
        "id": "view-in-github",
        "colab_type": "text"
      },
      "source": [
        "<a href=\"https://colab.research.google.com/github/rodrigoblopes/landscape/blob/master/My_QuickNotes_Panda.ipynb\" target=\"_parent\"><img src=\"https://colab.research.google.com/assets/colab-badge.svg\" alt=\"Open In Colab\"/></a>"
      ]
    },
    {
      "cell_type": "markdown",
      "source": [
        "# Intro to Pandas\n"
      ],
      "metadata": {
        "id": "ba7GlK4GVTb3"
      }
    },
    {
      "cell_type": "code",
      "source": [
        "#Import pandas library\n",
        "import pandas as pd"
      ],
      "metadata": {
        "id": "2clkE3q1obWK"
      },
      "execution_count": 1,
      "outputs": []
    },
    {
      "cell_type": "markdown",
      "source": [
        "#Download Data Sample\n",
        "From [Yahoo Finance](https://finance.yahoo.com/quote/BHP.AX/history?p=BHP.AX), download the Historical Data of a Stock option. In this example, we are using the BHP.AX.\n",
        "\n",
        "Once you download, upload the file on the **Files** container on the left side.\n",
        "Next step, click over the file and choose **Copy path**"
      ],
      "metadata": {
        "id": "LVJbeXa5oiqU"
      }
    },
    {
      "cell_type": "code",
      "source": [
        "#import csv file to Pandas\n",
        "#create data frame (df) variable\n",
        "df = pd.read_csv(\"/content/BHP.AX.csv\")"
      ],
      "metadata": {
        "id": "vfE_v6Xnrzy1"
      },
      "execution_count": 2,
      "outputs": []
    },
    {
      "cell_type": "code",
      "source": [
        "#show the dataframe like a spreadsheet\n",
        "df.head()"
      ],
      "metadata": {
        "colab": {
          "base_uri": "https://localhost:8080/",
          "height": 206
        },
        "id": "YUZsAmnyFuMS",
        "outputId": "862591e6-0b1c-4bbb-abfd-90045352e4c3"
      },
      "execution_count": 3,
      "outputs": [
        {
          "output_type": "execute_result",
          "data": {
            "text/plain": [
              "         Date       Open       High        Low      Close  Adj Close    Volume\n",
              "0  2022-01-17  46.790001  47.000000  45.930000  46.150002  41.378586  12201119\n",
              "1  2022-01-18  46.439999  46.990002  46.189999  46.700001  41.871719   9940912\n",
              "2  2022-01-19  46.400002  46.880001  46.150002  46.560001  41.746193  12821922\n",
              "3  2022-01-20  47.209999  48.240002  47.209999  48.009998  43.046280  12839430\n",
              "4  2022-01-21  47.000000  47.000000  45.570000  45.700001  40.975109  20068064"
            ],
            "text/html": [
              "\n",
              "  <div id=\"df-39f4ba43-e98d-4bb5-82e4-65e70f37d3f4\">\n",
              "    <div class=\"colab-df-container\">\n",
              "      <div>\n",
              "<style scoped>\n",
              "    .dataframe tbody tr th:only-of-type {\n",
              "        vertical-align: middle;\n",
              "    }\n",
              "\n",
              "    .dataframe tbody tr th {\n",
              "        vertical-align: top;\n",
              "    }\n",
              "\n",
              "    .dataframe thead th {\n",
              "        text-align: right;\n",
              "    }\n",
              "</style>\n",
              "<table border=\"1\" class=\"dataframe\">\n",
              "  <thead>\n",
              "    <tr style=\"text-align: right;\">\n",
              "      <th></th>\n",
              "      <th>Date</th>\n",
              "      <th>Open</th>\n",
              "      <th>High</th>\n",
              "      <th>Low</th>\n",
              "      <th>Close</th>\n",
              "      <th>Adj Close</th>\n",
              "      <th>Volume</th>\n",
              "    </tr>\n",
              "  </thead>\n",
              "  <tbody>\n",
              "    <tr>\n",
              "      <th>0</th>\n",
              "      <td>2022-01-17</td>\n",
              "      <td>46.790001</td>\n",
              "      <td>47.000000</td>\n",
              "      <td>45.930000</td>\n",
              "      <td>46.150002</td>\n",
              "      <td>41.378586</td>\n",
              "      <td>12201119</td>\n",
              "    </tr>\n",
              "    <tr>\n",
              "      <th>1</th>\n",
              "      <td>2022-01-18</td>\n",
              "      <td>46.439999</td>\n",
              "      <td>46.990002</td>\n",
              "      <td>46.189999</td>\n",
              "      <td>46.700001</td>\n",
              "      <td>41.871719</td>\n",
              "      <td>9940912</td>\n",
              "    </tr>\n",
              "    <tr>\n",
              "      <th>2</th>\n",
              "      <td>2022-01-19</td>\n",
              "      <td>46.400002</td>\n",
              "      <td>46.880001</td>\n",
              "      <td>46.150002</td>\n",
              "      <td>46.560001</td>\n",
              "      <td>41.746193</td>\n",
              "      <td>12821922</td>\n",
              "    </tr>\n",
              "    <tr>\n",
              "      <th>3</th>\n",
              "      <td>2022-01-20</td>\n",
              "      <td>47.209999</td>\n",
              "      <td>48.240002</td>\n",
              "      <td>47.209999</td>\n",
              "      <td>48.009998</td>\n",
              "      <td>43.046280</td>\n",
              "      <td>12839430</td>\n",
              "    </tr>\n",
              "    <tr>\n",
              "      <th>4</th>\n",
              "      <td>2022-01-21</td>\n",
              "      <td>47.000000</td>\n",
              "      <td>47.000000</td>\n",
              "      <td>45.570000</td>\n",
              "      <td>45.700001</td>\n",
              "      <td>40.975109</td>\n",
              "      <td>20068064</td>\n",
              "    </tr>\n",
              "  </tbody>\n",
              "</table>\n",
              "</div>\n",
              "      <button class=\"colab-df-convert\" onclick=\"convertToInteractive('df-39f4ba43-e98d-4bb5-82e4-65e70f37d3f4')\"\n",
              "              title=\"Convert this dataframe to an interactive table.\"\n",
              "              style=\"display:none;\">\n",
              "        \n",
              "  <svg xmlns=\"http://www.w3.org/2000/svg\" height=\"24px\"viewBox=\"0 0 24 24\"\n",
              "       width=\"24px\">\n",
              "    <path d=\"M0 0h24v24H0V0z\" fill=\"none\"/>\n",
              "    <path d=\"M18.56 5.44l.94 2.06.94-2.06 2.06-.94-2.06-.94-.94-2.06-.94 2.06-2.06.94zm-11 1L8.5 8.5l.94-2.06 2.06-.94-2.06-.94L8.5 2.5l-.94 2.06-2.06.94zm10 10l.94 2.06.94-2.06 2.06-.94-2.06-.94-.94-2.06-.94 2.06-2.06.94z\"/><path d=\"M17.41 7.96l-1.37-1.37c-.4-.4-.92-.59-1.43-.59-.52 0-1.04.2-1.43.59L10.3 9.45l-7.72 7.72c-.78.78-.78 2.05 0 2.83L4 21.41c.39.39.9.59 1.41.59.51 0 1.02-.2 1.41-.59l7.78-7.78 2.81-2.81c.8-.78.8-2.07 0-2.86zM5.41 20L4 18.59l7.72-7.72 1.47 1.35L5.41 20z\"/>\n",
              "  </svg>\n",
              "      </button>\n",
              "      \n",
              "  <style>\n",
              "    .colab-df-container {\n",
              "      display:flex;\n",
              "      flex-wrap:wrap;\n",
              "      gap: 12px;\n",
              "    }\n",
              "\n",
              "    .colab-df-convert {\n",
              "      background-color: #E8F0FE;\n",
              "      border: none;\n",
              "      border-radius: 50%;\n",
              "      cursor: pointer;\n",
              "      display: none;\n",
              "      fill: #1967D2;\n",
              "      height: 32px;\n",
              "      padding: 0 0 0 0;\n",
              "      width: 32px;\n",
              "    }\n",
              "\n",
              "    .colab-df-convert:hover {\n",
              "      background-color: #E2EBFA;\n",
              "      box-shadow: 0px 1px 2px rgba(60, 64, 67, 0.3), 0px 1px 3px 1px rgba(60, 64, 67, 0.15);\n",
              "      fill: #174EA6;\n",
              "    }\n",
              "\n",
              "    [theme=dark] .colab-df-convert {\n",
              "      background-color: #3B4455;\n",
              "      fill: #D2E3FC;\n",
              "    }\n",
              "\n",
              "    [theme=dark] .colab-df-convert:hover {\n",
              "      background-color: #434B5C;\n",
              "      box-shadow: 0px 1px 3px 1px rgba(0, 0, 0, 0.15);\n",
              "      filter: drop-shadow(0px 1px 2px rgba(0, 0, 0, 0.3));\n",
              "      fill: #FFFFFF;\n",
              "    }\n",
              "  </style>\n",
              "\n",
              "      <script>\n",
              "        const buttonEl =\n",
              "          document.querySelector('#df-39f4ba43-e98d-4bb5-82e4-65e70f37d3f4 button.colab-df-convert');\n",
              "        buttonEl.style.display =\n",
              "          google.colab.kernel.accessAllowed ? 'block' : 'none';\n",
              "\n",
              "        async function convertToInteractive(key) {\n",
              "          const element = document.querySelector('#df-39f4ba43-e98d-4bb5-82e4-65e70f37d3f4');\n",
              "          const dataTable =\n",
              "            await google.colab.kernel.invokeFunction('convertToInteractive',\n",
              "                                                     [key], {});\n",
              "          if (!dataTable) return;\n",
              "\n",
              "          const docLinkHtml = 'Like what you see? Visit the ' +\n",
              "            '<a target=\"_blank\" href=https://colab.research.google.com/notebooks/data_table.ipynb>data table notebook</a>'\n",
              "            + ' to learn more about interactive tables.';\n",
              "          element.innerHTML = '';\n",
              "          dataTable['output_type'] = 'display_data';\n",
              "          await google.colab.output.renderOutput(dataTable, element);\n",
              "          const docLink = document.createElement('div');\n",
              "          docLink.innerHTML = docLinkHtml;\n",
              "          element.appendChild(docLink);\n",
              "        }\n",
              "      </script>\n",
              "    </div>\n",
              "  </div>\n",
              "  "
            ]
          },
          "metadata": {},
          "execution_count": 3
        }
      ]
    },
    {
      "cell_type": "code",
      "source": [
        "#check the variable type df\n",
        "type(df)"
      ],
      "metadata": {
        "colab": {
          "base_uri": "https://localhost:8080/"
        },
        "id": "WK2FiVWJAuin",
        "outputId": "57ffb6ff-cc88-4d4d-c1d4-fd9be9f20a78"
      },
      "execution_count": 4,
      "outputs": [
        {
          "output_type": "execute_result",
          "data": {
            "text/plain": [
              "pandas.core.frame.DataFrame"
            ]
          },
          "metadata": {},
          "execution_count": 4
        }
      ]
    },
    {
      "cell_type": "code",
      "source": [
        "#check the series type inside df variable\n",
        "type(df[\"Open\"])"
      ],
      "metadata": {
        "colab": {
          "base_uri": "https://localhost:8080/"
        },
        "id": "sytp4Xv9HAt4",
        "outputId": "d000a5a7-9efb-443b-e078-fbb0f4c45bca"
      },
      "execution_count": 5,
      "outputs": [
        {
          "output_type": "execute_result",
          "data": {
            "text/plain": [
              "pandas.core.series.Series"
            ]
          },
          "metadata": {},
          "execution_count": 5
        }
      ]
    },
    {
      "cell_type": "code",
      "source": [
        "#see the column type of df variable\n",
        "df[\"Open\"]"
      ],
      "metadata": {
        "colab": {
          "base_uri": "https://localhost:8080/"
        },
        "id": "g9_cZpKDGury",
        "outputId": "9acac882-1976-4fca-b96a-910e1c871c10"
      },
      "execution_count": 6,
      "outputs": [
        {
          "output_type": "execute_result",
          "data": {
            "text/plain": [
              "0      46.790001\n",
              "1      46.439999\n",
              "2      46.400002\n",
              "3      47.209999\n",
              "4      47.000000\n",
              "         ...    \n",
              "247    47.580002\n",
              "248    48.650002\n",
              "249    49.000000\n",
              "250    49.250000\n",
              "251    49.810001\n",
              "Name: Open, Length: 252, dtype: float64"
            ]
          },
          "metadata": {},
          "execution_count": 6
        }
      ]
    },
    {
      "cell_type": "code",
      "source": [
        "#check the dataframe size (format)\n",
        "#first number: lines\n",
        "#second number: series (columns)\n",
        "df.shape"
      ],
      "metadata": {
        "colab": {
          "base_uri": "https://localhost:8080/"
        },
        "id": "c29mrCMlG3jU",
        "outputId": "3fa9d87c-1dcf-4039-d83a-94cf3c46eb98"
      },
      "execution_count": 7,
      "outputs": [
        {
          "output_type": "execute_result",
          "data": {
            "text/plain": [
              "(252, 7)"
            ]
          },
          "metadata": {},
          "execution_count": 7
        }
      ]
    },
    {
      "cell_type": "markdown",
      "source": [
        "#Knowing the data\n",
        "\n",
        "The file above it has 252 lines and 7 columns. \n",
        "\n",
        "When we import a *dataset* we are looking for a quick analysis in some entries, so we can have a roughly idea about it.\n",
        "\n",
        "* `df.head()` - show first 5 entries from the dataframe\n",
        "* `df.tail()` - show last 5 entries from the dataframe"
      ],
      "metadata": {
        "id": "-UolNxcyIRPG"
      }
    },
    {
      "cell_type": "code",
      "source": [
        "#show the first 10 entries\n",
        "df.head(10)"
      ],
      "metadata": {
        "colab": {
          "base_uri": "https://localhost:8080/",
          "height": 363
        },
        "id": "1gZh1nCWJpTK",
        "outputId": "79b12005-cdb8-41da-c7a2-6bd7073c47e0"
      },
      "execution_count": 8,
      "outputs": [
        {
          "output_type": "execute_result",
          "data": {
            "text/plain": [
              "         Date       Open       High        Low      Close  Adj Close  \\\n",
              "0  2022-01-17  46.790001  47.000000  45.930000  46.150002  41.378586   \n",
              "1  2022-01-18  46.439999  46.990002  46.189999  46.700001  41.871719   \n",
              "2  2022-01-19  46.400002  46.880001  46.150002  46.560001  41.746193   \n",
              "3  2022-01-20  47.209999  48.240002  47.209999  48.009998  43.046280   \n",
              "4  2022-01-21  47.000000  47.000000  45.570000  45.700001  40.975109   \n",
              "5  2022-01-24  45.320000  45.680000  44.900002  45.599998  40.885448   \n",
              "6  2022-01-25  45.240002  45.650002  44.910000  45.029999  40.374378   \n",
              "7  2022-01-27  45.299999  46.485001  45.049999  45.669998  40.948208   \n",
              "8  2022-01-28  47.259998  47.259998  46.099998  46.919998  42.068970   \n",
              "9  2022-01-31  46.049999  46.360001  45.549999  46.349998  41.557903   \n",
              "\n",
              "      Volume  \n",
              "0   12201119  \n",
              "1    9940912  \n",
              "2   12821922  \n",
              "3   12839430  \n",
              "4   20068064  \n",
              "5   24745712  \n",
              "6   23844958  \n",
              "7   27712917  \n",
              "8  327417026  \n",
              "9   37660130  "
            ],
            "text/html": [
              "\n",
              "  <div id=\"df-182f1387-1978-4e6c-82d3-68d00234551a\">\n",
              "    <div class=\"colab-df-container\">\n",
              "      <div>\n",
              "<style scoped>\n",
              "    .dataframe tbody tr th:only-of-type {\n",
              "        vertical-align: middle;\n",
              "    }\n",
              "\n",
              "    .dataframe tbody tr th {\n",
              "        vertical-align: top;\n",
              "    }\n",
              "\n",
              "    .dataframe thead th {\n",
              "        text-align: right;\n",
              "    }\n",
              "</style>\n",
              "<table border=\"1\" class=\"dataframe\">\n",
              "  <thead>\n",
              "    <tr style=\"text-align: right;\">\n",
              "      <th></th>\n",
              "      <th>Date</th>\n",
              "      <th>Open</th>\n",
              "      <th>High</th>\n",
              "      <th>Low</th>\n",
              "      <th>Close</th>\n",
              "      <th>Adj Close</th>\n",
              "      <th>Volume</th>\n",
              "    </tr>\n",
              "  </thead>\n",
              "  <tbody>\n",
              "    <tr>\n",
              "      <th>0</th>\n",
              "      <td>2022-01-17</td>\n",
              "      <td>46.790001</td>\n",
              "      <td>47.000000</td>\n",
              "      <td>45.930000</td>\n",
              "      <td>46.150002</td>\n",
              "      <td>41.378586</td>\n",
              "      <td>12201119</td>\n",
              "    </tr>\n",
              "    <tr>\n",
              "      <th>1</th>\n",
              "      <td>2022-01-18</td>\n",
              "      <td>46.439999</td>\n",
              "      <td>46.990002</td>\n",
              "      <td>46.189999</td>\n",
              "      <td>46.700001</td>\n",
              "      <td>41.871719</td>\n",
              "      <td>9940912</td>\n",
              "    </tr>\n",
              "    <tr>\n",
              "      <th>2</th>\n",
              "      <td>2022-01-19</td>\n",
              "      <td>46.400002</td>\n",
              "      <td>46.880001</td>\n",
              "      <td>46.150002</td>\n",
              "      <td>46.560001</td>\n",
              "      <td>41.746193</td>\n",
              "      <td>12821922</td>\n",
              "    </tr>\n",
              "    <tr>\n",
              "      <th>3</th>\n",
              "      <td>2022-01-20</td>\n",
              "      <td>47.209999</td>\n",
              "      <td>48.240002</td>\n",
              "      <td>47.209999</td>\n",
              "      <td>48.009998</td>\n",
              "      <td>43.046280</td>\n",
              "      <td>12839430</td>\n",
              "    </tr>\n",
              "    <tr>\n",
              "      <th>4</th>\n",
              "      <td>2022-01-21</td>\n",
              "      <td>47.000000</td>\n",
              "      <td>47.000000</td>\n",
              "      <td>45.570000</td>\n",
              "      <td>45.700001</td>\n",
              "      <td>40.975109</td>\n",
              "      <td>20068064</td>\n",
              "    </tr>\n",
              "    <tr>\n",
              "      <th>5</th>\n",
              "      <td>2022-01-24</td>\n",
              "      <td>45.320000</td>\n",
              "      <td>45.680000</td>\n",
              "      <td>44.900002</td>\n",
              "      <td>45.599998</td>\n",
              "      <td>40.885448</td>\n",
              "      <td>24745712</td>\n",
              "    </tr>\n",
              "    <tr>\n",
              "      <th>6</th>\n",
              "      <td>2022-01-25</td>\n",
              "      <td>45.240002</td>\n",
              "      <td>45.650002</td>\n",
              "      <td>44.910000</td>\n",
              "      <td>45.029999</td>\n",
              "      <td>40.374378</td>\n",
              "      <td>23844958</td>\n",
              "    </tr>\n",
              "    <tr>\n",
              "      <th>7</th>\n",
              "      <td>2022-01-27</td>\n",
              "      <td>45.299999</td>\n",
              "      <td>46.485001</td>\n",
              "      <td>45.049999</td>\n",
              "      <td>45.669998</td>\n",
              "      <td>40.948208</td>\n",
              "      <td>27712917</td>\n",
              "    </tr>\n",
              "    <tr>\n",
              "      <th>8</th>\n",
              "      <td>2022-01-28</td>\n",
              "      <td>47.259998</td>\n",
              "      <td>47.259998</td>\n",
              "      <td>46.099998</td>\n",
              "      <td>46.919998</td>\n",
              "      <td>42.068970</td>\n",
              "      <td>327417026</td>\n",
              "    </tr>\n",
              "    <tr>\n",
              "      <th>9</th>\n",
              "      <td>2022-01-31</td>\n",
              "      <td>46.049999</td>\n",
              "      <td>46.360001</td>\n",
              "      <td>45.549999</td>\n",
              "      <td>46.349998</td>\n",
              "      <td>41.557903</td>\n",
              "      <td>37660130</td>\n",
              "    </tr>\n",
              "  </tbody>\n",
              "</table>\n",
              "</div>\n",
              "      <button class=\"colab-df-convert\" onclick=\"convertToInteractive('df-182f1387-1978-4e6c-82d3-68d00234551a')\"\n",
              "              title=\"Convert this dataframe to an interactive table.\"\n",
              "              style=\"display:none;\">\n",
              "        \n",
              "  <svg xmlns=\"http://www.w3.org/2000/svg\" height=\"24px\"viewBox=\"0 0 24 24\"\n",
              "       width=\"24px\">\n",
              "    <path d=\"M0 0h24v24H0V0z\" fill=\"none\"/>\n",
              "    <path d=\"M18.56 5.44l.94 2.06.94-2.06 2.06-.94-2.06-.94-.94-2.06-.94 2.06-2.06.94zm-11 1L8.5 8.5l.94-2.06 2.06-.94-2.06-.94L8.5 2.5l-.94 2.06-2.06.94zm10 10l.94 2.06.94-2.06 2.06-.94-2.06-.94-.94-2.06-.94 2.06-2.06.94z\"/><path d=\"M17.41 7.96l-1.37-1.37c-.4-.4-.92-.59-1.43-.59-.52 0-1.04.2-1.43.59L10.3 9.45l-7.72 7.72c-.78.78-.78 2.05 0 2.83L4 21.41c.39.39.9.59 1.41.59.51 0 1.02-.2 1.41-.59l7.78-7.78 2.81-2.81c.8-.78.8-2.07 0-2.86zM5.41 20L4 18.59l7.72-7.72 1.47 1.35L5.41 20z\"/>\n",
              "  </svg>\n",
              "      </button>\n",
              "      \n",
              "  <style>\n",
              "    .colab-df-container {\n",
              "      display:flex;\n",
              "      flex-wrap:wrap;\n",
              "      gap: 12px;\n",
              "    }\n",
              "\n",
              "    .colab-df-convert {\n",
              "      background-color: #E8F0FE;\n",
              "      border: none;\n",
              "      border-radius: 50%;\n",
              "      cursor: pointer;\n",
              "      display: none;\n",
              "      fill: #1967D2;\n",
              "      height: 32px;\n",
              "      padding: 0 0 0 0;\n",
              "      width: 32px;\n",
              "    }\n",
              "\n",
              "    .colab-df-convert:hover {\n",
              "      background-color: #E2EBFA;\n",
              "      box-shadow: 0px 1px 2px rgba(60, 64, 67, 0.3), 0px 1px 3px 1px rgba(60, 64, 67, 0.15);\n",
              "      fill: #174EA6;\n",
              "    }\n",
              "\n",
              "    [theme=dark] .colab-df-convert {\n",
              "      background-color: #3B4455;\n",
              "      fill: #D2E3FC;\n",
              "    }\n",
              "\n",
              "    [theme=dark] .colab-df-convert:hover {\n",
              "      background-color: #434B5C;\n",
              "      box-shadow: 0px 1px 3px 1px rgba(0, 0, 0, 0.15);\n",
              "      filter: drop-shadow(0px 1px 2px rgba(0, 0, 0, 0.3));\n",
              "      fill: #FFFFFF;\n",
              "    }\n",
              "  </style>\n",
              "\n",
              "      <script>\n",
              "        const buttonEl =\n",
              "          document.querySelector('#df-182f1387-1978-4e6c-82d3-68d00234551a button.colab-df-convert');\n",
              "        buttonEl.style.display =\n",
              "          google.colab.kernel.accessAllowed ? 'block' : 'none';\n",
              "\n",
              "        async function convertToInteractive(key) {\n",
              "          const element = document.querySelector('#df-182f1387-1978-4e6c-82d3-68d00234551a');\n",
              "          const dataTable =\n",
              "            await google.colab.kernel.invokeFunction('convertToInteractive',\n",
              "                                                     [key], {});\n",
              "          if (!dataTable) return;\n",
              "\n",
              "          const docLinkHtml = 'Like what you see? Visit the ' +\n",
              "            '<a target=\"_blank\" href=https://colab.research.google.com/notebooks/data_table.ipynb>data table notebook</a>'\n",
              "            + ' to learn more about interactive tables.';\n",
              "          element.innerHTML = '';\n",
              "          dataTable['output_type'] = 'display_data';\n",
              "          await google.colab.output.renderOutput(dataTable, element);\n",
              "          const docLink = document.createElement('div');\n",
              "          docLink.innerHTML = docLinkHtml;\n",
              "          element.appendChild(docLink);\n",
              "        }\n",
              "      </script>\n",
              "    </div>\n",
              "  </div>\n",
              "  "
            ]
          },
          "metadata": {},
          "execution_count": 8
        }
      ]
    },
    {
      "cell_type": "code",
      "source": [
        "#show the last 10 entries\n",
        "df.tail(10)"
      ],
      "metadata": {
        "colab": {
          "base_uri": "https://localhost:8080/",
          "height": 363
        },
        "id": "CE-TdVyMLgbX",
        "outputId": "eb45b3f3-40fb-422f-bef3-0770d48b3eaf"
      },
      "execution_count": 9,
      "outputs": [
        {
          "output_type": "execute_result",
          "data": {
            "text/plain": [
              "           Date       Open       High        Low      Close  Adj Close  \\\n",
              "242  2023-01-03  46.099998  46.099998  44.930000  45.330002  45.330002   \n",
              "243  2023-01-04  45.299999  46.180000  45.250000  46.040001  46.040001   \n",
              "244  2023-01-05  45.980000  46.240002  45.680000  46.049999  46.049999   \n",
              "245  2023-01-06  47.110001  47.779999  46.959999  47.509998  47.509998   \n",
              "246  2023-01-09  48.000000  48.430000  47.880001  48.000000  48.000000   \n",
              "247  2023-01-10  47.580002  48.049999  47.520000  47.799999  47.799999   \n",
              "248  2023-01-11  48.650002  48.930000  48.490002  48.509998  48.509998   \n",
              "249  2023-01-12  49.000000  49.500000  48.720001  49.380001  49.380001   \n",
              "250  2023-01-13  49.250000  49.939999  49.250000  49.639999  49.639999   \n",
              "251  2023-01-16  49.810001  50.000000  49.360001  49.689999  49.689999   \n",
              "\n",
              "      Volume  \n",
              "242  4480991  \n",
              "243  7802250  \n",
              "244  7536105  \n",
              "245  8106986  \n",
              "246  5757435  \n",
              "247  5653577  \n",
              "248  7432150  \n",
              "249  8825502  \n",
              "250  8519896  \n",
              "251  7439473  "
            ],
            "text/html": [
              "\n",
              "  <div id=\"df-4a07449a-017a-4980-974c-c35f6727f670\">\n",
              "    <div class=\"colab-df-container\">\n",
              "      <div>\n",
              "<style scoped>\n",
              "    .dataframe tbody tr th:only-of-type {\n",
              "        vertical-align: middle;\n",
              "    }\n",
              "\n",
              "    .dataframe tbody tr th {\n",
              "        vertical-align: top;\n",
              "    }\n",
              "\n",
              "    .dataframe thead th {\n",
              "        text-align: right;\n",
              "    }\n",
              "</style>\n",
              "<table border=\"1\" class=\"dataframe\">\n",
              "  <thead>\n",
              "    <tr style=\"text-align: right;\">\n",
              "      <th></th>\n",
              "      <th>Date</th>\n",
              "      <th>Open</th>\n",
              "      <th>High</th>\n",
              "      <th>Low</th>\n",
              "      <th>Close</th>\n",
              "      <th>Adj Close</th>\n",
              "      <th>Volume</th>\n",
              "    </tr>\n",
              "  </thead>\n",
              "  <tbody>\n",
              "    <tr>\n",
              "      <th>242</th>\n",
              "      <td>2023-01-03</td>\n",
              "      <td>46.099998</td>\n",
              "      <td>46.099998</td>\n",
              "      <td>44.930000</td>\n",
              "      <td>45.330002</td>\n",
              "      <td>45.330002</td>\n",
              "      <td>4480991</td>\n",
              "    </tr>\n",
              "    <tr>\n",
              "      <th>243</th>\n",
              "      <td>2023-01-04</td>\n",
              "      <td>45.299999</td>\n",
              "      <td>46.180000</td>\n",
              "      <td>45.250000</td>\n",
              "      <td>46.040001</td>\n",
              "      <td>46.040001</td>\n",
              "      <td>7802250</td>\n",
              "    </tr>\n",
              "    <tr>\n",
              "      <th>244</th>\n",
              "      <td>2023-01-05</td>\n",
              "      <td>45.980000</td>\n",
              "      <td>46.240002</td>\n",
              "      <td>45.680000</td>\n",
              "      <td>46.049999</td>\n",
              "      <td>46.049999</td>\n",
              "      <td>7536105</td>\n",
              "    </tr>\n",
              "    <tr>\n",
              "      <th>245</th>\n",
              "      <td>2023-01-06</td>\n",
              "      <td>47.110001</td>\n",
              "      <td>47.779999</td>\n",
              "      <td>46.959999</td>\n",
              "      <td>47.509998</td>\n",
              "      <td>47.509998</td>\n",
              "      <td>8106986</td>\n",
              "    </tr>\n",
              "    <tr>\n",
              "      <th>246</th>\n",
              "      <td>2023-01-09</td>\n",
              "      <td>48.000000</td>\n",
              "      <td>48.430000</td>\n",
              "      <td>47.880001</td>\n",
              "      <td>48.000000</td>\n",
              "      <td>48.000000</td>\n",
              "      <td>5757435</td>\n",
              "    </tr>\n",
              "    <tr>\n",
              "      <th>247</th>\n",
              "      <td>2023-01-10</td>\n",
              "      <td>47.580002</td>\n",
              "      <td>48.049999</td>\n",
              "      <td>47.520000</td>\n",
              "      <td>47.799999</td>\n",
              "      <td>47.799999</td>\n",
              "      <td>5653577</td>\n",
              "    </tr>\n",
              "    <tr>\n",
              "      <th>248</th>\n",
              "      <td>2023-01-11</td>\n",
              "      <td>48.650002</td>\n",
              "      <td>48.930000</td>\n",
              "      <td>48.490002</td>\n",
              "      <td>48.509998</td>\n",
              "      <td>48.509998</td>\n",
              "      <td>7432150</td>\n",
              "    </tr>\n",
              "    <tr>\n",
              "      <th>249</th>\n",
              "      <td>2023-01-12</td>\n",
              "      <td>49.000000</td>\n",
              "      <td>49.500000</td>\n",
              "      <td>48.720001</td>\n",
              "      <td>49.380001</td>\n",
              "      <td>49.380001</td>\n",
              "      <td>8825502</td>\n",
              "    </tr>\n",
              "    <tr>\n",
              "      <th>250</th>\n",
              "      <td>2023-01-13</td>\n",
              "      <td>49.250000</td>\n",
              "      <td>49.939999</td>\n",
              "      <td>49.250000</td>\n",
              "      <td>49.639999</td>\n",
              "      <td>49.639999</td>\n",
              "      <td>8519896</td>\n",
              "    </tr>\n",
              "    <tr>\n",
              "      <th>251</th>\n",
              "      <td>2023-01-16</td>\n",
              "      <td>49.810001</td>\n",
              "      <td>50.000000</td>\n",
              "      <td>49.360001</td>\n",
              "      <td>49.689999</td>\n",
              "      <td>49.689999</td>\n",
              "      <td>7439473</td>\n",
              "    </tr>\n",
              "  </tbody>\n",
              "</table>\n",
              "</div>\n",
              "      <button class=\"colab-df-convert\" onclick=\"convertToInteractive('df-4a07449a-017a-4980-974c-c35f6727f670')\"\n",
              "              title=\"Convert this dataframe to an interactive table.\"\n",
              "              style=\"display:none;\">\n",
              "        \n",
              "  <svg xmlns=\"http://www.w3.org/2000/svg\" height=\"24px\"viewBox=\"0 0 24 24\"\n",
              "       width=\"24px\">\n",
              "    <path d=\"M0 0h24v24H0V0z\" fill=\"none\"/>\n",
              "    <path d=\"M18.56 5.44l.94 2.06.94-2.06 2.06-.94-2.06-.94-.94-2.06-.94 2.06-2.06.94zm-11 1L8.5 8.5l.94-2.06 2.06-.94-2.06-.94L8.5 2.5l-.94 2.06-2.06.94zm10 10l.94 2.06.94-2.06 2.06-.94-2.06-.94-.94-2.06-.94 2.06-2.06.94z\"/><path d=\"M17.41 7.96l-1.37-1.37c-.4-.4-.92-.59-1.43-.59-.52 0-1.04.2-1.43.59L10.3 9.45l-7.72 7.72c-.78.78-.78 2.05 0 2.83L4 21.41c.39.39.9.59 1.41.59.51 0 1.02-.2 1.41-.59l7.78-7.78 2.81-2.81c.8-.78.8-2.07 0-2.86zM5.41 20L4 18.59l7.72-7.72 1.47 1.35L5.41 20z\"/>\n",
              "  </svg>\n",
              "      </button>\n",
              "      \n",
              "  <style>\n",
              "    .colab-df-container {\n",
              "      display:flex;\n",
              "      flex-wrap:wrap;\n",
              "      gap: 12px;\n",
              "    }\n",
              "\n",
              "    .colab-df-convert {\n",
              "      background-color: #E8F0FE;\n",
              "      border: none;\n",
              "      border-radius: 50%;\n",
              "      cursor: pointer;\n",
              "      display: none;\n",
              "      fill: #1967D2;\n",
              "      height: 32px;\n",
              "      padding: 0 0 0 0;\n",
              "      width: 32px;\n",
              "    }\n",
              "\n",
              "    .colab-df-convert:hover {\n",
              "      background-color: #E2EBFA;\n",
              "      box-shadow: 0px 1px 2px rgba(60, 64, 67, 0.3), 0px 1px 3px 1px rgba(60, 64, 67, 0.15);\n",
              "      fill: #174EA6;\n",
              "    }\n",
              "\n",
              "    [theme=dark] .colab-df-convert {\n",
              "      background-color: #3B4455;\n",
              "      fill: #D2E3FC;\n",
              "    }\n",
              "\n",
              "    [theme=dark] .colab-df-convert:hover {\n",
              "      background-color: #434B5C;\n",
              "      box-shadow: 0px 1px 3px 1px rgba(0, 0, 0, 0.15);\n",
              "      filter: drop-shadow(0px 1px 2px rgba(0, 0, 0, 0.3));\n",
              "      fill: #FFFFFF;\n",
              "    }\n",
              "  </style>\n",
              "\n",
              "      <script>\n",
              "        const buttonEl =\n",
              "          document.querySelector('#df-4a07449a-017a-4980-974c-c35f6727f670 button.colab-df-convert');\n",
              "        buttonEl.style.display =\n",
              "          google.colab.kernel.accessAllowed ? 'block' : 'none';\n",
              "\n",
              "        async function convertToInteractive(key) {\n",
              "          const element = document.querySelector('#df-4a07449a-017a-4980-974c-c35f6727f670');\n",
              "          const dataTable =\n",
              "            await google.colab.kernel.invokeFunction('convertToInteractive',\n",
              "                                                     [key], {});\n",
              "          if (!dataTable) return;\n",
              "\n",
              "          const docLinkHtml = 'Like what you see? Visit the ' +\n",
              "            '<a target=\"_blank\" href=https://colab.research.google.com/notebooks/data_table.ipynb>data table notebook</a>'\n",
              "            + ' to learn more about interactive tables.';\n",
              "          element.innerHTML = '';\n",
              "          dataTable['output_type'] = 'display_data';\n",
              "          await google.colab.output.renderOutput(dataTable, element);\n",
              "          const docLink = document.createElement('div');\n",
              "          docLink.innerHTML = docLinkHtml;\n",
              "          element.appendChild(docLink);\n",
              "        }\n",
              "      </script>\n",
              "    </div>\n",
              "  </div>\n",
              "  "
            ]
          },
          "metadata": {},
          "execution_count": 9
        }
      ]
    },
    {
      "cell_type": "code",
      "source": [
        "#check the columns names\n",
        "#create variable column_names\n",
        "column_names = df.columns\n",
        "\n",
        "#print column_names\n",
        "column_names"
      ],
      "metadata": {
        "colab": {
          "base_uri": "https://localhost:8080/"
        },
        "id": "3LFFFF2WMBGp",
        "outputId": "41cd6022-1980-486b-b706-650a8dc1f69d"
      },
      "execution_count": 10,
      "outputs": [
        {
          "output_type": "execute_result",
          "data": {
            "text/plain": [
              "Index(['Date', 'Open', 'High', 'Low', 'Close', 'Adj Close', 'Volume'], dtype='object')"
            ]
          },
          "metadata": {},
          "execution_count": 10
        }
      ]
    },
    {
      "cell_type": "markdown",
      "source": [
        "Know the type of data is essential.\n",
        "\n",
        "\n",
        "*   Financial: ```float``` (number after \",\" or \".\" - depending the currency)\n",
        "*   Year: ```int```\n",
        "*   Full date: ```datetime```\n",
        "\n",
        "This is important so we can manipulate the *dataset*\n",
        "\n",
        "To know all types of variable for each columns (series), use ```df.types```\n",
        "\n",
        "\n"
      ],
      "metadata": {
        "id": "2pVm2SOLVEgC"
      }
    },
    {
      "cell_type": "code",
      "source": [
        "df.dtypes"
      ],
      "metadata": {
        "colab": {
          "base_uri": "https://localhost:8080/"
        },
        "id": "6cB6DW1CV0Pu",
        "outputId": "41a72fca-bbdf-4e77-a46f-4e4474386eec"
      },
      "execution_count": 12,
      "outputs": [
        {
          "output_type": "execute_result",
          "data": {
            "text/plain": [
              "Date          object\n",
              "Open         float64\n",
              "High         float64\n",
              "Low          float64\n",
              "Close        float64\n",
              "Adj Close    float64\n",
              "Volume         int64\n",
              "dtype: object"
            ]
          },
          "metadata": {},
          "execution_count": 12
        }
      ]
    },
    {
      "cell_type": "markdown",
      "source": [
        "Another way to figure out the type of variable and check the null values is using ```df.info()```"
      ],
      "metadata": {
        "id": "nzAPpDllWvMn"
      }
    },
    {
      "cell_type": "code",
      "source": [
        "df.info()"
      ],
      "metadata": {
        "id": "5Dk8ChuTXB6Q"
      },
      "execution_count": null,
      "outputs": []
    },
    {
      "cell_type": "markdown",
      "source": [
        "# Choosing a column (series)\n",
        "There are different ways to choose a series inside the Dataframe.\n",
        "\n",
        "In the majority of cases, we want to choose only one column.\n",
        "\n",
        "To choose the column, you must insert between square brackets [ ]"
      ],
      "metadata": {
        "id": "1HSeqoSDXcbz"
      }
    },
    {
      "cell_type": "code",
      "source": [
        "#select the series \"High\" from our dataframe\n",
        "df[\"High\"]"
      ],
      "metadata": {
        "id": "l11EpotvZ4HN",
        "colab": {
          "base_uri": "https://localhost:8080/"
        },
        "outputId": "4734e82d-fdd2-4395-dc28-b10cbea52a28"
      },
      "execution_count": 15,
      "outputs": [
        {
          "output_type": "execute_result",
          "data": {
            "text/plain": [
              "0      47.000000\n",
              "1      46.990002\n",
              "2      46.880001\n",
              "3      48.240002\n",
              "4      47.000000\n",
              "         ...    \n",
              "247    48.049999\n",
              "248    48.930000\n",
              "249    49.500000\n",
              "250    49.939999\n",
              "251    50.000000\n",
              "Name: High, Length: 252, dtype: float64"
            ]
          },
          "metadata": {},
          "execution_count": 15
        }
      ]
    },
    {
      "cell_type": "markdown",
      "source": [
        "If the column name has no spaces or special character, you can use the following:\n",
        "Instead ```df.[\"High\"]``` you can use ```df.High```. The result will be the same."
      ],
      "metadata": {
        "id": "knNrOOsoafLb"
      }
    },
    {
      "cell_type": "code",
      "source": [
        "#select the series \"High\"from our dataframe\n",
        "df.High"
      ],
      "metadata": {
        "colab": {
          "base_uri": "https://localhost:8080/"
        },
        "id": "0We-I1YMa48I",
        "outputId": "ce7044c5-7a74-477b-bfef-2b61b14f0f93"
      },
      "execution_count": 17,
      "outputs": [
        {
          "output_type": "execute_result",
          "data": {
            "text/plain": [
              "0      47.000000\n",
              "1      46.990002\n",
              "2      46.880001\n",
              "3      48.240002\n",
              "4      47.000000\n",
              "         ...    \n",
              "247    48.049999\n",
              "248    48.930000\n",
              "249    49.500000\n",
              "250    49.939999\n",
              "251    50.000000\n",
              "Name: High, Length: 252, dtype: float64"
            ]
          },
          "metadata": {},
          "execution_count": 17
        }
      ]
    },
    {
      "cell_type": "markdown",
      "source": [
        "# Calc the column average\n",
        "When we run the code ```df.High```, you'll see the column printed from ```High``` values. To find the average, you need to use ```df.High.mean()```\n"
      ],
      "metadata": {
        "id": "mk9amHjybG-F"
      }
    },
    {
      "cell_type": "code",
      "source": [
        "# Calc the average for the column \"High\"\n",
        "df.High.mean()"
      ],
      "metadata": {
        "colab": {
          "base_uri": "https://localhost:8080/"
        },
        "id": "3GbI3dEnbjz4",
        "outputId": "37dece5e-3c2f-4afe-8104-8549a397635c"
      },
      "execution_count": 18,
      "outputs": [
        {
          "output_type": "execute_result",
          "data": {
            "text/plain": [
              "44.07590959126984"
            ]
          },
          "metadata": {},
          "execution_count": 18
        }
      ]
    },
    {
      "cell_type": "markdown",
      "source": [
        "#Working with dates (```datetime```)\n",
        "When you import a file with dates, probably Pandas won't recognize the format automatically.\n",
        "\n",
        "When you checked ```df.info()```, you saw the column ```Date``` was as ```object```. In this case, the columns it's text (```string```) and you can't extract useful stuff.\n",
        "\n",
        "Let's convert the column using ```pd.to_datetime``` and set the date format."
      ],
      "metadata": {
        "id": "SkKSE6fyb-Gk"
      }
    },
    {
      "cell_type": "code",
      "source": [
        "#before\n",
        "df.Date"
      ],
      "metadata": {
        "colab": {
          "base_uri": "https://localhost:8080/"
        },
        "id": "vmR3xxj9cnAu",
        "outputId": "f6b48243-ea1b-4a5b-c9a2-4845e1f481df"
      },
      "execution_count": 19,
      "outputs": [
        {
          "output_type": "execute_result",
          "data": {
            "text/plain": [
              "0      2022-01-17\n",
              "1      2022-01-18\n",
              "2      2022-01-19\n",
              "3      2022-01-20\n",
              "4      2022-01-21\n",
              "          ...    \n",
              "247    2023-01-10\n",
              "248    2023-01-11\n",
              "249    2023-01-12\n",
              "250    2023-01-13\n",
              "251    2023-01-16\n",
              "Name: Date, Length: 252, dtype: object"
            ]
          },
          "metadata": {},
          "execution_count": 19
        }
      ]
    },
    {
      "cell_type": "code",
      "source": [
        "#convert column Date in datetime\n",
        "df.Date = pd.to_datetime(df.Date, format=\"%Y-%m-%d\")"
      ],
      "metadata": {
        "id": "gDjzNOxpcqY0"
      },
      "execution_count": null,
      "outputs": []
    },
    {
      "cell_type": "code",
      "source": [
        "# after\n",
        "df.Date"
      ],
      "metadata": {
        "id": "jw8KWNiyeKHx"
      },
      "execution_count": null,
      "outputs": []
    },
    {
      "cell_type": "markdown",
      "source": [
        "Now it's possible to access on specific components from the date, using ```df.Date.dt```"
      ],
      "metadata": {
        "id": "-eSUcCzifTT4"
      }
    },
    {
      "cell_type": "code",
      "source": [
        "df.Date.dt.year"
      ],
      "metadata": {
        "colab": {
          "base_uri": "https://localhost:8080/"
        },
        "id": "x9SXYEKYfgXt",
        "outputId": "076fc945-c1b0-4a78-a1b4-edf4056f277b"
      },
      "execution_count": 23,
      "outputs": [
        {
          "output_type": "execute_result",
          "data": {
            "text/plain": [
              "0      2022\n",
              "1      2022\n",
              "2      2022\n",
              "3      2022\n",
              "4      2022\n",
              "       ... \n",
              "247    2023\n",
              "248    2023\n",
              "249    2023\n",
              "250    2023\n",
              "251    2023\n",
              "Name: Date, Length: 252, dtype: int64"
            ]
          },
          "metadata": {},
          "execution_count": 23
        }
      ]
    },
    {
      "cell_type": "code",
      "source": [
        "df.Date.dt.month"
      ],
      "metadata": {
        "colab": {
          "base_uri": "https://localhost:8080/"
        },
        "id": "Bj5B2bKrfuih",
        "outputId": "47042981-1b17-4203-b982-963f5e6d9dce"
      },
      "execution_count": 24,
      "outputs": [
        {
          "output_type": "execute_result",
          "data": {
            "text/plain": [
              "0      1\n",
              "1      1\n",
              "2      1\n",
              "3      1\n",
              "4      1\n",
              "      ..\n",
              "247    1\n",
              "248    1\n",
              "249    1\n",
              "250    1\n",
              "251    1\n",
              "Name: Date, Length: 252, dtype: int64"
            ]
          },
          "metadata": {},
          "execution_count": 24
        }
      ]
    },
    {
      "cell_type": "code",
      "source": [
        "df.Date.dt.day"
      ],
      "metadata": {
        "id": "sX5Ioouvfxd-",
        "colab": {
          "base_uri": "https://localhost:8080/"
        },
        "outputId": "44372af8-f16d-4337-8cf6-4e8fbfcba003"
      },
      "execution_count": 27,
      "outputs": [
        {
          "output_type": "execute_result",
          "data": {
            "text/plain": [
              "0      17\n",
              "1      18\n",
              "2      19\n",
              "3      20\n",
              "4      21\n",
              "       ..\n",
              "247    10\n",
              "248    11\n",
              "249    12\n",
              "250    13\n",
              "251    16\n",
              "Name: Date, Length: 252, dtype: int64"
            ]
          },
          "metadata": {},
          "execution_count": 27
        }
      ]
    },
    {
      "cell_type": "markdown",
      "source": [
        "There are different formats an user can insert. You can find for instance:\n",
        "\n",
        "*   31/06/15\n",
        "*   31/06/2015\n",
        "*   31-6-15\n",
        "*   2015-6-31\n",
        "*   31 June 2015\n",
        "\n",
        "To deal with this, you need to understand the documentation. Useful links:\n",
        "\n",
        "* https://pandas.pydata.org/docs/reference/api/pandas.to_datetime.html?highlight=to_datetime#pandas.to_datetime\n",
        "* https://docs.python.org/3/library/datetime.html#strftime-and-strptime-behavior\n",
        "\n"
      ],
      "metadata": {
        "id": "JH7DQvK3gP-l"
      }
    }
  ]
}